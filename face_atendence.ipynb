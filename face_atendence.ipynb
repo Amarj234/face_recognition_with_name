{
 "cells": [
  {
   "cell_type": "code",
   "execution_count": null,
   "id": "d1b16cea-3f94-4683-add7-82cea10bf7b6",
   "metadata": {},
   "outputs": [],
   "source": [
    "!pip install cv"
   ]
  },
  {
   "cell_type": "code",
   "execution_count": null,
   "id": "441631cf-1281-4961-a477-b1fd61bbe949",
   "metadata": {},
   "outputs": [],
   "source": [
    "##  capture Image from camera and create dataset"
   ]
  },
  {
   "cell_type": "code",
   "execution_count": 9,
   "id": "db72b01a-4fa3-47c5-9c19-23fab720c67d",
   "metadata": {},
   "outputs": [
    {
     "name": "stdout",
     "output_type": "stream",
     "text": [
      "Collecting sample pictures completed.\n"
     ]
    }
   ],
   "source": [
    "import cv2\n",
    "import os\n",
    "\n",
    "def generate_dataset():\n",
    "    face_classifier = cv2.CascadeClassifier(\"haarcascade_frontalface_default.xml\")\n",
    "\n",
    "    def face_cropped(img):\n",
    "        gray = cv2.cvtColor(img, cv2.COLOR_BGR2GRAY)\n",
    "        faces = face_classifier.detectMultiScale(gray, 1.3, 5)\n",
    "        if len(faces) == 0:\n",
    "            return None\n",
    "        for (x, y, w, h) in faces:\n",
    "            cropped_face = img[y:y+h, x:x+w]\n",
    "            return cropped_face\n",
    "\n",
    "    cap = cv2.VideoCapture(0)\n",
    "    id = 1  # here you can change id for uniqe user\n",
    "    img_id = 0\n",
    "\n",
    "    while True:\n",
    "        ret, frame = cap.read()\n",
    "        if face_cropped(frame) is not None:\n",
    "            img_id += 1\n",
    "            face = cv2.resize(face_cropped(frame), (200, 200))\n",
    "            face = cv2.cvtColor(face, cv2.COLOR_BGR2GRAY)\n",
    "            data_path = \"data/user.\" + str(id) + \".\" + str(img_id) + \".jpg\"\n",
    "            cv2.imwrite(data_path, face)\n",
    "            cv2.putText(face, str(img_id), (50, 50), cv2.FONT_HERSHEY_COMPLEX, 1, (0, 255, 0), 2)\n",
    "            cv2.imshow(\"Cropped face\", face)\n",
    "\n",
    "        if cv2.waitKey(1) == 13 or img_id == 200:  # 13 is Enter key\n",
    "            break\n",
    "\n",
    "    cap.release()\n",
    "    cv2.destroyAllWindows()\n",
    "    print(\"Collecting sample pictures completed.\")\n",
    "\n",
    "generate_dataset()\n"
   ]
  },
  {
   "cell_type": "code",
   "execution_count": 24,
   "id": "061a20ef-1347-41a3-86f8-cda4bbce2d4c",
   "metadata": {},
   "outputs": [
    {
     "name": "stdout",
     "output_type": "stream",
     "text": [
      "Requirement already satisfied: pillow in c:\\users\\amarjeet\\anaconda3\\lib\\site-packages (10.4.0)\n"
     ]
    }
   ],
   "source": [
    "!pip install pillow"
   ]
  },
  {
   "cell_type": "code",
   "execution_count": null,
   "id": "9adcb980-40bf-40fa-8c88-d90ccfcc6b7c",
   "metadata": {},
   "outputs": [],
   "source": [
    "!pip uninstall opencv-python"
   ]
  },
  {
   "cell_type": "code",
   "execution_count": 2,
   "id": "2ee0272f-4a78-4b42-b077-c4954825263c",
   "metadata": {},
   "outputs": [
    {
     "name": "stdout",
     "output_type": "stream",
     "text": [
      "Collecting opencv-contrib-python\n",
      "  Using cached opencv_contrib_python-4.11.0.86-cp37-abi3-macosx_13_0_arm64.whl.metadata (20 kB)\n",
      "Collecting numpy>=1.21.2 (from opencv-contrib-python)\n",
      "  Downloading numpy-2.2.6-cp312-cp312-macosx_14_0_arm64.whl.metadata (62 kB)\n",
      "Using cached opencv_contrib_python-4.11.0.86-cp37-abi3-macosx_13_0_arm64.whl (46.3 MB)\n",
      "Downloading numpy-2.2.6-cp312-cp312-macosx_14_0_arm64.whl (5.1 MB)\n",
      "\u001b[2K   \u001b[90m━━━━━━━━━━━━━━━━━━━━━━━━━━━━━━━━━━━━━━━━\u001b[0m \u001b[32m5.1/5.1 MB\u001b[0m \u001b[31m25.7 MB/s\u001b[0m eta \u001b[36m0:00:00\u001b[0ma \u001b[36m0:00:01\u001b[0m\n",
      "\u001b[?25hInstalling collected packages: numpy, opencv-contrib-python\n",
      "\u001b[31mERROR: pip's dependency resolver does not currently take into account all the packages that are installed. This behaviour is the source of the following dependency conflicts.\n",
      "gensim 4.3.3 requires numpy<2.0,>=1.18.5, but you have numpy 2.2.6 which is incompatible.\n",
      "contourpy 1.2.0 requires numpy<2.0,>=1.20, but you have numpy 2.2.6 which is incompatible.\n",
      "numba 0.60.0 requires numpy<2.1,>=1.22, but you have numpy 2.2.6 which is incompatible.\u001b[0m\u001b[31m\n",
      "\u001b[0mSuccessfully installed numpy-2.2.6 opencv-contrib-python-4.11.0.86\n"
     ]
    }
   ],
   "source": [
    "!pip install opencv-contrib-python"
   ]
  },
  {
   "cell_type": "code",
   "execution_count": 12,
   "id": "50bbcc10-a426-47d7-8230-bcf534156940",
   "metadata": {},
   "outputs": [],
   "source": [
    "import os\n",
    "import cv2\n",
    "import numpy as np\n",
    "from PIL import Image\n",
    "\n",
    "def train_classifier(data_dir):\n",
    "    path = [os.path.join(data_dir, f) for f in os.listdir(data_dir) if f.lower().endswith(('.png', '.jpg', '.jpeg'))]\n",
    "    faces = []\n",
    "    ids = []\n",
    "\n",
    "    for image in path:\n",
    "        img = Image.open(image).convert('L')  # Convert to grayscale\n",
    "        imageNp = np.array(img, 'uint8')\n",
    "        id = int(os.path.split(image)[1].split(\".\")[1])  # Extract ID from filename\n",
    "        faces.append(imageNp)\n",
    "        ids.append(id)\n",
    "\n",
    "    ids = np.array(ids)\n",
    "\n",
    "    clf = cv2.face.LBPHFaceRecognizer_create()\n",
    "    clf.train(faces, ids)\n",
    "    clf.write(\"classifier.xml\")\n",
    "\n",
    "# Call the function\n",
    "train_classifier(\"data\")\n"
   ]
  },
  {
   "cell_type": "code",
   "execution_count": 1,
   "id": "4094b0d4-9cd1-447e-89fa-f67d0c5215ca",
   "metadata": {},
   "outputs": [
    {
     "name": "stderr",
     "output_type": "stream",
     "text": [
      "2025-05-21 17:57:13.365 python[45175:554431] +[IMKClient subclass]: chose IMKClient_Modern\n",
      "2025-05-21 17:57:13.365 python[45175:554431] +[IMKInputSession subclass]: chose IMKInputSession_Modern\n"
     ]
    }
   ],
   "source": [
    "import cv2\n",
    "\n",
    "def draw_boundary(img, classifier, scaleFactor, minNeighbors, color, text, clf):\n",
    "    gray_image = cv2.cvtColor(img, cv2.COLOR_BGR2GRAY)\n",
    "    features = classifier.detectMultiScale(gray_image, scaleFactor, minNeighbors)\n",
    "    coords = []\n",
    "\n",
    "    for (x, y, w, h) in features:\n",
    "        cv2.rectangle(img, (x, y), (x + w, y + h), color, 2)\n",
    "        id, pred = clf.predict(gray_image[y:y + h, x:x + w])\n",
    "        confidence = int(100 * (1 - pred / 300))\n",
    "\n",
    "        if confidence > 77:\n",
    "            if id == 1:\n",
    "                name = \"Amarjeet\"\n",
    "            elif id == 2:\n",
    "                name = \"dhruv\"\n",
    "            elif id == 3:\n",
    "                name = \"Krishna\"\n",
    "            else:\n",
    "                name = \"Unknown\"\n",
    "        else:\n",
    "            name = \"Unknown\"\n",
    "\n",
    "        cv2.putText(img, name, (x, y - 5), cv2.FONT_HERSHEY_SIMPLEX, 0.8, color, 1, cv2.LINE_AA)\n",
    "        coords = [x, y, w, h]\n",
    "    return coords\n",
    "\n",
    "def recognize(img, clf, faceCascade):\n",
    "    draw_boundary(img, faceCascade, 1.1, 10, (0, 0, 0), \"Face\", clf)\n",
    "    return img\n",
    "\n",
    "# Load classifier and recognizer\n",
    "faceCascade = cv2.CascadeClassifier(\"haarcascade_frontalface_default.xml\")\n",
    "clf = cv2.face.LBPHFaceRecognizer_create()\n",
    "clf.read(\"classifier.xml\")\n",
    "url =\"http://192.168.1.109:8080/stream\"\n",
    "# Start video capture\n",
    "video_capture = cv2.VideoCapture(url)\n",
    "while True:\n",
    "    ret, img = video_capture.read()\n",
    "    if not ret:\n",
    "        break\n",
    "    img = recognize(img, clf, faceCascade)\n",
    "    cv2.imshow(\"Face Detection\", img)\n",
    "\n",
    "    if cv2.waitKey(1) == 13:  # 13 is Enter key\n",
    "        break\n",
    "\n",
    "video_capture.release()\n",
    "cv2.destroyAllWindows()\n"
   ]
  },
  {
   "cell_type": "code",
   "execution_count": null,
   "id": "1241baad-9f31-4666-a9b7-df3d2db99dda",
   "metadata": {},
   "outputs": [],
   "source": []
  }
 ],
 "metadata": {
  "kernelspec": {
   "display_name": "Python 3 (ipykernel)",
   "language": "python",
   "name": "python3"
  },
  "language_info": {
   "codemirror_mode": {
    "name": "ipython",
    "version": 3
   },
   "file_extension": ".py",
   "mimetype": "text/x-python",
   "name": "python",
   "nbconvert_exporter": "python",
   "pygments_lexer": "ipython3",
   "version": "3.12.2"
  }
 },
 "nbformat": 4,
 "nbformat_minor": 5
}
